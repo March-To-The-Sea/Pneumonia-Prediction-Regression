{
 "cells": [
  {
   "cell_type": "code",
   "execution_count": 1,
   "id": "f19b1e0b",
   "metadata": {
    "execution": {
     "iopub.execute_input": "2022-08-05T09:10:30.300839Z",
     "iopub.status.busy": "2022-08-05T09:10:30.300156Z",
     "iopub.status.idle": "2022-08-05T09:10:32.100134Z",
     "shell.execute_reply": "2022-08-05T09:10:32.099255Z"
    },
    "papermill": {
     "duration": 1.809687,
     "end_time": "2022-08-05T09:10:32.102752",
     "exception": false,
     "start_time": "2022-08-05T09:10:30.293065",
     "status": "completed"
    },
    "tags": []
   },
   "outputs": [],
   "source": [
    "import pandas as pd\n",
    "import numpy as np\n",
    "\n",
    "from sklearn.preprocessing import LabelEncoder,StandardScaler\n",
    "from sklearn.linear_model import LinearRegression,Ridge,Lasso,ElasticNet\n",
    "from sklearn.tree import DecisionTreeRegressor\n",
    "from sklearn.ensemble import RandomForestRegressor\n",
    "from sklearn.linear_model import ElasticNet\n",
    "import statsmodels.formula.api as smf\n",
    "\n",
    "from sklearn.metrics import mean_squared_error,r2_score\n",
    "from math import sqrt\n",
    "\n",
    "import seaborn as sns\n",
    "import matplotlib.pyplot as plt\n",
    "%matplotlib inline\n",
    "\n",
    "import warnings\n",
    "warnings.filterwarnings('ignore')\n",
    "\n",
    "from matplotlib.axes._axes import _log as matplotlib_axes_logger\n",
    "matplotlib_axes_logger.setLevel('ERROR')\n",
    "\n",
    "CSV_READ = pd.read_csv(\"../input/california-housing-prices/housing.csv\")"
   ]
  },
  {
   "cell_type": "code",
   "execution_count": 2,
   "id": "4b5378c5",
   "metadata": {
    "execution": {
     "iopub.execute_input": "2022-08-05T09:10:32.113894Z",
     "iopub.status.busy": "2022-08-05T09:10:32.113298Z",
     "iopub.status.idle": "2022-08-05T09:10:32.123028Z",
     "shell.execute_reply": "2022-08-05T09:10:32.121875Z"
    },
    "papermill": {
     "duration": 0.018023,
     "end_time": "2022-08-05T09:10:32.125507",
     "exception": false,
     "start_time": "2022-08-05T09:10:32.107484",
     "status": "completed"
    },
    "tags": []
   },
   "outputs": [
    {
     "data": {
      "text/plain": [
       "Index(['longitude', 'latitude', 'housing_median_age', 'total_rooms',\n",
       "       'total_bedrooms', 'population', 'households', 'median_income',\n",
       "       'median_house_value', 'ocean_proximity'],\n",
       "      dtype='object')"
      ]
     },
     "execution_count": 2,
     "metadata": {},
     "output_type": "execute_result"
    }
   ],
   "source": [
    "CSV_READ.columns"
   ]
  },
  {
   "cell_type": "code",
   "execution_count": 3,
   "id": "7ab35dae",
   "metadata": {
    "execution": {
     "iopub.execute_input": "2022-08-05T09:10:32.135855Z",
     "iopub.status.busy": "2022-08-05T09:10:32.135488Z",
     "iopub.status.idle": "2022-08-05T09:10:32.147263Z",
     "shell.execute_reply": "2022-08-05T09:10:32.146199Z"
    },
    "papermill": {
     "duration": 0.019518,
     "end_time": "2022-08-05T09:10:32.149514",
     "exception": false,
     "start_time": "2022-08-05T09:10:32.129996",
     "status": "completed"
    },
    "tags": []
   },
   "outputs": [
    {
     "data": {
      "text/plain": [
       "longitude               0\n",
       "latitude                0\n",
       "housing_median_age      0\n",
       "total_rooms             0\n",
       "total_bedrooms        207\n",
       "population              0\n",
       "households              0\n",
       "median_income           0\n",
       "median_house_value      0\n",
       "ocean_proximity         0\n",
       "dtype: int64"
      ]
     },
     "execution_count": 3,
     "metadata": {},
     "output_type": "execute_result"
    }
   ],
   "source": [
    "CSV_READ.isnull().sum()"
   ]
  },
  {
   "cell_type": "code",
   "execution_count": 4,
   "id": "ec19d429",
   "metadata": {
    "execution": {
     "iopub.execute_input": "2022-08-05T09:10:32.160232Z",
     "iopub.status.busy": "2022-08-05T09:10:32.159859Z",
     "iopub.status.idle": "2022-08-05T09:10:32.174270Z",
     "shell.execute_reply": "2022-08-05T09:10:32.173225Z"
    },
    "papermill": {
     "duration": 0.022404,
     "end_time": "2022-08-05T09:10:32.176468",
     "exception": false,
     "start_time": "2022-08-05T09:10:32.154064",
     "status": "completed"
    },
    "tags": []
   },
   "outputs": [
    {
     "data": {
      "text/plain": [
       "longitude             0\n",
       "latitude              0\n",
       "housing_median_age    0\n",
       "total_rooms           0\n",
       "total_bedrooms        0\n",
       "population            0\n",
       "households            0\n",
       "median_income         0\n",
       "median_house_value    0\n",
       "ocean_proximity       0\n",
       "dtype: int64"
      ]
     },
     "execution_count": 4,
     "metadata": {},
     "output_type": "execute_result"
    }
   ],
   "source": [
    "CSV_READ.total_bedrooms = CSV_READ.total_bedrooms.fillna(CSV_READ.total_bedrooms.mean())\n",
    "CSV_READ.isnull().sum()"
   ]
  },
  {
   "cell_type": "code",
   "execution_count": 5,
   "id": "df3e5c84",
   "metadata": {
    "execution": {
     "iopub.execute_input": "2022-08-05T09:10:32.187287Z",
     "iopub.status.busy": "2022-08-05T09:10:32.186885Z",
     "iopub.status.idle": "2022-08-05T09:10:32.197107Z",
     "shell.execute_reply": "2022-08-05T09:10:32.196288Z"
    },
    "papermill": {
     "duration": 0.017876,
     "end_time": "2022-08-05T09:10:32.199113",
     "exception": false,
     "start_time": "2022-08-05T09:10:32.181237",
     "status": "completed"
    },
    "tags": []
   },
   "outputs": [],
   "source": [
    "CSV_READ['ocean_proximity'] = LabelEncoder().fit_transform(CSV_READ['ocean_proximity'])"
   ]
  },
  {
   "cell_type": "code",
   "execution_count": 6,
   "id": "dc2d07e7",
   "metadata": {
    "execution": {
     "iopub.execute_input": "2022-08-05T09:10:32.209980Z",
     "iopub.status.busy": "2022-08-05T09:10:32.209627Z",
     "iopub.status.idle": "2022-08-05T09:10:32.236214Z",
     "shell.execute_reply": "2022-08-05T09:10:32.235415Z"
    },
    "papermill": {
     "duration": 0.034504,
     "end_time": "2022-08-05T09:10:32.238284",
     "exception": false,
     "start_time": "2022-08-05T09:10:32.203780",
     "status": "completed"
    },
    "tags": []
   },
   "outputs": [
    {
     "data": {
      "text/html": [
       "<div>\n",
       "<style scoped>\n",
       "    .dataframe tbody tr th:only-of-type {\n",
       "        vertical-align: middle;\n",
       "    }\n",
       "\n",
       "    .dataframe tbody tr th {\n",
       "        vertical-align: top;\n",
       "    }\n",
       "\n",
       "    .dataframe thead th {\n",
       "        text-align: right;\n",
       "    }\n",
       "</style>\n",
       "<table border=\"1\" class=\"dataframe\">\n",
       "  <thead>\n",
       "    <tr style=\"text-align: right;\">\n",
       "      <th></th>\n",
       "      <th>longitude</th>\n",
       "      <th>latitude</th>\n",
       "      <th>housing_median_age</th>\n",
       "      <th>total_rooms</th>\n",
       "      <th>total_bedrooms</th>\n",
       "      <th>population</th>\n",
       "      <th>households</th>\n",
       "      <th>median_income</th>\n",
       "      <th>median_house_value</th>\n",
       "      <th>ocean_proximity</th>\n",
       "    </tr>\n",
       "  </thead>\n",
       "  <tbody>\n",
       "    <tr>\n",
       "      <th>0</th>\n",
       "      <td>-1.327835</td>\n",
       "      <td>1.052548</td>\n",
       "      <td>0.982143</td>\n",
       "      <td>-0.804819</td>\n",
       "      <td>-0.975228</td>\n",
       "      <td>-0.974429</td>\n",
       "      <td>-0.977033</td>\n",
       "      <td>2.344766</td>\n",
       "      <td>2.129631</td>\n",
       "      <td>1.291089</td>\n",
       "    </tr>\n",
       "    <tr>\n",
       "      <th>1</th>\n",
       "      <td>-1.322844</td>\n",
       "      <td>1.043185</td>\n",
       "      <td>-0.607019</td>\n",
       "      <td>2.045890</td>\n",
       "      <td>1.355088</td>\n",
       "      <td>0.861439</td>\n",
       "      <td>1.669961</td>\n",
       "      <td>2.332238</td>\n",
       "      <td>1.314156</td>\n",
       "      <td>1.291089</td>\n",
       "    </tr>\n",
       "    <tr>\n",
       "      <th>2</th>\n",
       "      <td>-1.332827</td>\n",
       "      <td>1.038503</td>\n",
       "      <td>1.856182</td>\n",
       "      <td>-0.535746</td>\n",
       "      <td>-0.829732</td>\n",
       "      <td>-0.820777</td>\n",
       "      <td>-0.843637</td>\n",
       "      <td>1.782699</td>\n",
       "      <td>1.258693</td>\n",
       "      <td>1.291089</td>\n",
       "    </tr>\n",
       "    <tr>\n",
       "      <th>3</th>\n",
       "      <td>-1.337818</td>\n",
       "      <td>1.038503</td>\n",
       "      <td>1.856182</td>\n",
       "      <td>-0.624215</td>\n",
       "      <td>-0.722399</td>\n",
       "      <td>-0.766028</td>\n",
       "      <td>-0.733781</td>\n",
       "      <td>0.932968</td>\n",
       "      <td>1.165100</td>\n",
       "      <td>1.291089</td>\n",
       "    </tr>\n",
       "    <tr>\n",
       "      <th>4</th>\n",
       "      <td>-1.337818</td>\n",
       "      <td>1.038503</td>\n",
       "      <td>1.856182</td>\n",
       "      <td>-0.462404</td>\n",
       "      <td>-0.615066</td>\n",
       "      <td>-0.759847</td>\n",
       "      <td>-0.629157</td>\n",
       "      <td>-0.012881</td>\n",
       "      <td>1.172900</td>\n",
       "      <td>1.291089</td>\n",
       "    </tr>\n",
       "  </tbody>\n",
       "</table>\n",
       "</div>"
      ],
      "text/plain": [
       "   longitude  latitude  housing_median_age  total_rooms  total_bedrooms  \\\n",
       "0  -1.327835  1.052548            0.982143    -0.804819       -0.975228   \n",
       "1  -1.322844  1.043185           -0.607019     2.045890        1.355088   \n",
       "2  -1.332827  1.038503            1.856182    -0.535746       -0.829732   \n",
       "3  -1.337818  1.038503            1.856182    -0.624215       -0.722399   \n",
       "4  -1.337818  1.038503            1.856182    -0.462404       -0.615066   \n",
       "\n",
       "   population  households  median_income  median_house_value  ocean_proximity  \n",
       "0   -0.974429   -0.977033       2.344766            2.129631         1.291089  \n",
       "1    0.861439    1.669961       2.332238            1.314156         1.291089  \n",
       "2   -0.820777   -0.843637       1.782699            1.258693         1.291089  \n",
       "3   -0.766028   -0.733781       0.932968            1.165100         1.291089  \n",
       "4   -0.759847   -0.629157      -0.012881            1.172900         1.291089  "
      ]
     },
     "execution_count": 6,
     "metadata": {},
     "output_type": "execute_result"
    }
   ],
   "source": [
    "names = CSV_READ.columns\n",
    "\n",
    "scaler = StandardScaler()\n",
    "\n",
    "scaled_df = scaler.fit_transform(CSV_READ)\n",
    "scaled_df = pd.DataFrame(scaled_df, columns=names)\n",
    "scaled_df.head()"
   ]
  },
  {
   "cell_type": "code",
   "execution_count": 7,
   "id": "682d1715",
   "metadata": {
    "execution": {
     "iopub.execute_input": "2022-08-05T09:10:32.250417Z",
     "iopub.status.busy": "2022-08-05T09:10:32.249273Z",
     "iopub.status.idle": "2022-08-05T09:10:32.262696Z",
     "shell.execute_reply": "2022-08-05T09:10:32.261379Z"
    },
    "papermill": {
     "duration": 0.022075,
     "end_time": "2022-08-05T09:10:32.265297",
     "exception": false,
     "start_time": "2022-08-05T09:10:32.243222",
     "status": "completed"
    },
    "tags": []
   },
   "outputs": [
    {
     "name": "stdout",
     "output_type": "stream",
     "text": [
      "<class 'pandas.core.frame.DataFrame'>\n",
      "<class 'pandas.core.series.Series'>\n"
     ]
    }
   ],
   "source": [
    "X_Features = ['longitude', 'latitude', 'housing_median_age', 'total_rooms',\n",
    "       'total_bedrooms', 'population', 'households', 'median_income',\n",
    "       'ocean_proximity']\n",
    "X = scaled_df[X_Features]\n",
    "Y = scaled_df['median_house_value']\n",
    "\n",
    "print(type(X))\n",
    "print(type(Y))"
   ]
  },
  {
   "cell_type": "code",
   "execution_count": 8,
   "id": "d8b7066f",
   "metadata": {
    "execution": {
     "iopub.execute_input": "2022-08-05T09:10:32.277741Z",
     "iopub.status.busy": "2022-08-05T09:10:32.276972Z",
     "iopub.status.idle": "2022-08-05T09:10:32.283537Z",
     "shell.execute_reply": "2022-08-05T09:10:32.282174Z"
    },
    "papermill": {
     "duration": 0.015289,
     "end_time": "2022-08-05T09:10:32.285771",
     "exception": false,
     "start_time": "2022-08-05T09:10:32.270482",
     "status": "completed"
    },
    "tags": []
   },
   "outputs": [
    {
     "name": "stdout",
     "output_type": "stream",
     "text": [
      "(20640, 10)\n",
      "(20640, 9)\n",
      "(20640,)\n"
     ]
    }
   ],
   "source": [
    "print(CSV_READ.shape)\n",
    "print(X.shape)\n",
    "print(Y.shape)"
   ]
  },
  {
   "cell_type": "code",
   "execution_count": 9,
   "id": "0e576f0a",
   "metadata": {
    "execution": {
     "iopub.execute_input": "2022-08-05T09:10:32.297351Z",
     "iopub.status.busy": "2022-08-05T09:10:32.296736Z",
     "iopub.status.idle": "2022-08-05T09:10:32.307609Z",
     "shell.execute_reply": "2022-08-05T09:10:32.306320Z"
    },
    "papermill": {
     "duration": 0.01926,
     "end_time": "2022-08-05T09:10:32.309971",
     "exception": false,
     "start_time": "2022-08-05T09:10:32.290711",
     "status": "completed"
    },
    "tags": []
   },
   "outputs": [
    {
     "name": "stdout",
     "output_type": "stream",
     "text": [
      "(16512, 9) (16512,)\n",
      "(4128, 9) (4128,)\n"
     ]
    }
   ],
   "source": [
    "from sklearn.model_selection import train_test_split\n",
    "x_train,x_test,y_train,y_test=train_test_split(X,Y,test_size=0.2,random_state=1)\n",
    "\n",
    "print (x_train.shape, y_train.shape)\n",
    "print (x_test.shape, y_test.shape)"
   ]
  },
  {
   "cell_type": "code",
   "execution_count": 10,
   "id": "7df8c676",
   "metadata": {
    "execution": {
     "iopub.execute_input": "2022-08-05T09:10:32.321891Z",
     "iopub.status.busy": "2022-08-05T09:10:32.320870Z",
     "iopub.status.idle": "2022-08-05T09:10:32.367828Z",
     "shell.execute_reply": "2022-08-05T09:10:32.365905Z"
    },
    "papermill": {
     "duration": 0.057497,
     "end_time": "2022-08-05T09:10:32.372467",
     "exception": false,
     "start_time": "2022-08-05T09:10:32.314970",
     "status": "completed"
    },
    "tags": []
   },
   "outputs": [
    {
     "name": "stdout",
     "output_type": "stream",
     "text": [
      "0.6056598120301221\n",
      "0.6276223517950296\n"
     ]
    }
   ],
   "source": [
    "linreg=LinearRegression()\n",
    "linreg.fit(x_train,y_train)\n",
    "\n",
    "y_predict = linreg.predict(x_test)\n",
    "\n",
    "print(sqrt(mean_squared_error(y_test,y_predict)))\n",
    "print((r2_score(y_test,y_predict)))"
   ]
  },
  {
   "cell_type": "code",
   "execution_count": 11,
   "id": "4d290bb7",
   "metadata": {
    "execution": {
     "iopub.execute_input": "2022-08-05T09:10:32.423895Z",
     "iopub.status.busy": "2022-08-05T09:10:32.423197Z",
     "iopub.status.idle": "2022-08-05T09:10:32.633929Z",
     "shell.execute_reply": "2022-08-05T09:10:32.633173Z"
    },
    "papermill": {
     "duration": 0.247473,
     "end_time": "2022-08-05T09:10:32.636229",
     "exception": false,
     "start_time": "2022-08-05T09:10:32.388756",
     "status": "completed"
    },
    "tags": []
   },
   "outputs": [
    {
     "name": "stdout",
     "output_type": "stream",
     "text": [
      "0.6036472382378824\n",
      "0.6300930203492975\n"
     ]
    }
   ],
   "source": [
    "dtreg=DecisionTreeRegressor()\n",
    "dtreg.fit(x_train,y_train)\n",
    "\n",
    "y_predict = dtreg.predict(x_test)\n",
    "\n",
    "print(sqrt(mean_squared_error(y_test,y_predict)))\n",
    "print((r2_score(y_test,y_predict)))"
   ]
  },
  {
   "cell_type": "code",
   "execution_count": 12,
   "id": "4980d232",
   "metadata": {
    "execution": {
     "iopub.execute_input": "2022-08-05T09:10:32.648843Z",
     "iopub.status.busy": "2022-08-05T09:10:32.648181Z",
     "iopub.status.idle": "2022-08-05T09:10:43.519990Z",
     "shell.execute_reply": "2022-08-05T09:10:43.519150Z"
    },
    "papermill": {
     "duration": 10.881031,
     "end_time": "2022-08-05T09:10:43.522479",
     "exception": false,
     "start_time": "2022-08-05T09:10:32.641448",
     "status": "completed"
    },
    "tags": []
   },
   "outputs": [
    {
     "name": "stdout",
     "output_type": "stream",
     "text": [
      "0.4269636186916928\n",
      "0.8149420140937664\n"
     ]
    }
   ],
   "source": [
    "rfreg=RandomForestRegressor()\n",
    "rfreg.fit(x_train,y_train)\n",
    "\n",
    "y_predict = rfreg.predict(x_test)\n",
    "\n",
    "print(sqrt(mean_squared_error(y_test,y_predict)))\n",
    "print((r2_score(y_test,y_predict)))"
   ]
  },
  {
   "cell_type": "code",
   "execution_count": 13,
   "id": "c2332dfd",
   "metadata": {
    "execution": {
     "iopub.execute_input": "2022-08-05T09:10:43.535706Z",
     "iopub.status.busy": "2022-08-05T09:10:43.534834Z",
     "iopub.status.idle": "2022-08-05T09:10:43.571653Z",
     "shell.execute_reply": "2022-08-05T09:10:43.569581Z"
    },
    "papermill": {
     "duration": 0.047865,
     "end_time": "2022-08-05T09:10:43.575922",
     "exception": false,
     "start_time": "2022-08-05T09:10:43.528057",
     "status": "completed"
    },
    "tags": []
   },
   "outputs": [
    {
     "name": "stdout",
     "output_type": "stream",
     "text": [
      "0.719314096707071\n",
      "R2 Value/Coefficient of determination:0.4747534206169961\n"
     ]
    }
   ],
   "source": [
    "lassoreg=Lasso(alpha=0.001,normalize=True)\n",
    "lassoreg.fit(x_train,y_train)\n",
    "\n",
    "print(sqrt(mean_squared_error(y_test,lassoreg.predict(x_test))))\n",
    "print('R2 Value/Coefficient of determination:{}'.format(lassoreg.score(x_test,y_test)))"
   ]
  },
  {
   "cell_type": "code",
   "execution_count": 14,
   "id": "d383dfa4",
   "metadata": {
    "execution": {
     "iopub.execute_input": "2022-08-05T09:10:43.656987Z",
     "iopub.status.busy": "2022-08-05T09:10:43.656288Z",
     "iopub.status.idle": "2022-08-05T09:10:43.690671Z",
     "shell.execute_reply": "2022-08-05T09:10:43.689411Z"
    },
    "papermill": {
     "duration": 0.093397,
     "end_time": "2022-08-05T09:10:43.694720",
     "exception": false,
     "start_time": "2022-08-05T09:10:43.601323",
     "status": "completed"
    },
    "tags": []
   },
   "outputs": [
    {
     "name": "stdout",
     "output_type": "stream",
     "text": [
      "0.6056048844852343\n",
      "R2 Value/Coefficient of determination:0.6276898909055972\n"
     ]
    }
   ],
   "source": [
    "ridgereg=Ridge(alpha=0.001,normalize=True)\n",
    "ridgereg.fit(x_train,y_train)\n",
    "\n",
    "print(sqrt(mean_squared_error(y_test,ridgereg.predict(x_test))))\n",
    "print('R2 Value/Coefficient of determination:{}'.format(ridgereg.score(x_test,y_test)))"
   ]
  },
  {
   "cell_type": "code",
   "execution_count": 15,
   "id": "2be5588c",
   "metadata": {
    "execution": {
     "iopub.execute_input": "2022-08-05T09:10:43.725506Z",
     "iopub.status.busy": "2022-08-05T09:10:43.724815Z",
     "iopub.status.idle": "2022-08-05T09:10:43.770376Z",
     "shell.execute_reply": "2022-08-05T09:10:43.767462Z"
    },
    "papermill": {
     "duration": 0.066025,
     "end_time": "2022-08-05T09:10:43.775630",
     "exception": false,
     "start_time": "2022-08-05T09:10:43.709605",
     "status": "completed"
    },
    "tags": []
   },
   "outputs": [
    {
     "name": "stdout",
     "output_type": "stream",
     "text": [
      "0.944358169398106\n",
      "R2 Value/Coefficient of determination:0.09468529806704551\n"
     ]
    }
   ],
   "source": [
    "elasticreg = ElasticNet(alpha=0.001,normalize=True)\n",
    "elasticreg.fit(x_train,y_train)\n",
    "\n",
    "print(sqrt(mean_squared_error(y_test,elasticreg.predict(x_test))))\n",
    "print('R2 Value/Coefficient of determination:{}'.format(elasticreg.score(x_test,y_test)))"
   ]
  }
 ],
 "metadata": {
  "kernelspec": {
   "display_name": "Python 3",
   "language": "python",
   "name": "python3"
  },
  "language_info": {
   "codemirror_mode": {
    "name": "ipython",
    "version": 3
   },
   "file_extension": ".py",
   "mimetype": "text/x-python",
   "name": "python",
   "nbconvert_exporter": "python",
   "pygments_lexer": "ipython3",
   "version": "3.7.12"
  },
  "papermill": {
   "default_parameters": {},
   "duration": 23.96817,
   "end_time": "2022-08-05T09:10:44.652743",
   "environment_variables": {},
   "exception": null,
   "input_path": "__notebook__.ipynb",
   "output_path": "__notebook__.ipynb",
   "parameters": {},
   "start_time": "2022-08-05T09:10:20.684573",
   "version": "2.3.4"
  }
 },
 "nbformat": 4,
 "nbformat_minor": 5
}
